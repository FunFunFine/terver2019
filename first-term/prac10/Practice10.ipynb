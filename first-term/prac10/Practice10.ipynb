{
 "cells": [
  {
   "cell_type": "markdown",
   "metadata": {},
   "source": [
    "# Практика 10. Условные распределения. Условное матожидание."
   ]
  },
  {
   "cell_type": "markdown",
   "metadata": {},
   "source": [
    "## Мотивация"
   ]
  },
  {
   "cell_type": "markdown",
   "metadata": {},
   "source": [
    "## Видео"
   ]
  },
  {
   "cell_type": "markdown",
   "metadata": {},
   "source": [
    "## Теория"
   ]
  },
  {
   "cell_type": "markdown",
   "metadata": {},
   "source": [
    "$$\\rho_{\\xi|\\eta}(x|y_0) = \\frac{\\rho_{\\xi,\\eta}(x, y_0)}{\\rho_{\\eta}(y_0)}$$\n",
    "$$F_{\\xi|\\eta}(x|y) = \\int_{-\\infty}^{x} (\\frac{\\int_{-\\infty}^{y}\\rho_{\\xi,\\eta}(u,v)dv}{\\int_{-\\infty}^{y}\\rho_{\\eta}(w)dw})du = \n",
    "\\int_{-\\infty}^{x}\\rho_{\\xi|\\eta}(u,y)du$$\n",
    "$$\\rho_{\\xi}(x) = \\int_{-\\infty}^{\\infty} \\rho_{\\xi|\\eta}(x|y)\\rho_{\\eta}(y)dy$$\n",
    "$$E(X|Y)(y) = \\int_{-\\infty}^{\\infty}x\\rho_{X|Y}(x|y)dx$$"
   ]
  },
  {
   "cell_type": "markdown",
   "metadata": {},
   "source": [
    "## Задачи на пару"
   ]
  },
  {
   "cell_type": "markdown",
   "metadata": {},
   "source": [
    "**1.** Пусть совместная плотность случайного вектора $(\\xi, \\eta)$ равна:\n",
    "$$\\rho_{\\xi,\\eta}(x,y) =\\left\\{\n",
    "\t\\begin{array}{cc}\n",
    "\txe^{-x(y+1)}, & 0\\leq x,y\\\\\n",
    "\t0, & otherwise\n",
    "\t\\end{array}\\right.$$\n",
    "Найти:\n",
    "* одномерные(маргинальные распределения) $\\xi$ и $\\eta$\n",
    "* условные плотности $\\xi$ по $\\eta$ и $\\eta$ по $\\xi$\n",
    "* $E(\\xi|\\eta)$, $E(\\eta|\\xi)$\n",
    "\n",
    "**2.** Пусть $\\xi$ и $\\eta$ — независимые случайные величины, имеющие\n",
    "равномерное распределение в отрезке [0, 1]. Найти:\n",
    "* $E(\\xi|\\xi + \\eta)$\n",
    "* $E(\\xi^2 - \\eta^2 |\\xi + \\eta)$\n",
    "\n",
    "**3.** Пусть случайная величина $\\xi$ имеет стандартное нормальное\n",
    "распределение. Найти $E(\\xi|\\xi^2)$"
   ]
  },
  {
   "cell_type": "markdown",
   "metadata": {},
   "source": [
    "## ДЗ"
   ]
  },
  {
   "cell_type": "markdown",
   "metadata": {},
   "source": [
    "**1.** Пусть $\\xi$ и $\\eta$ — независимые случайные величины, имеющие\n",
    "равномерное распределение в отрезке [0, 1]. Найти:\n",
    "* $E(\\xi - \\eta|\\xi + \\eta)$\n",
    "* $E(\\xi|\\xi + 2\\eta)$\n",
    "\n",
    "**2.** Найти $E(\\xi|\\eta)$, если совместная плотность случайного вектора\n",
    "$(\\xi, \\eta)$ равна:\n",
    "$$\\rho_{\\xi,\\eta}(x,y) =\\left\\{\n",
    "\t\\begin{array}{cc}\n",
    "\t4xy, & 0\\leq x\\leq 1, 0\\leq y\\leq 1 \\\\\n",
    "\t0, & otherwise\n",
    "\t\\end{array}\\right.$$\n",
    "\n",
    "**3.** Пусть случайная величина $\\xi$ имеет показательное распределение \n",
    "с параметром 1, а t > 0. Найти:\n",
    "* $E(\\xi| min(\\xi, t))$\n",
    "* $E(\\xi| max(\\xi, t))$\n",
    "\n",
    "**4.** Пусть независимые случайные величины $\\xi$ и $\\eta$ имеют стандартное\n",
    " нормальное распределение. Найти $E(\\xi^2 + \\eta^2 |\\xi + \\eta)$.\n",
    "\n",
    "**5.**\n",
    "Найти $E(\\xi|\\eta)$, если совместная плотность случайного вектора\n",
    "$(\\xi, \\eta)$ равна:\n",
    "\t$$\\rho_{\\xi,\\eta}(x,y) =\\left\\{\n",
    "\t\\begin{array}{cc}\n",
    "\t\\frac{1+9x^2y^2}{8}, & -1\\leq x,y\\leq 1\\\\\n",
    "\t0, & otherwise\n",
    "\t\\end{array}\\right.$$\n",
    "\n",
    "**6.** Пусть $\\xi_1, \\ldots \\xi_n$ — независимые случайные величины, имеющие\n",
    " равномерное распределение в отрезке $[0, 1]$. Найти:\n",
    "* $E(\\xi_1 | max(\\xi_1, \\ldots \\xi_n))$\n",
    "* $E(\\xi_1 | min(\\xi_1, \\ldots \\xi_n))$\n"
   ]
  },
  {
   "cell_type": "markdown",
   "metadata": {},
   "source": [
    "## Гробы"
   ]
  }
 ],
 "metadata": {
  "kernelspec": {
   "display_name": "Python 3",
   "language": "python",
   "name": "python3"
  },
  "language_info": {
   "codemirror_mode": {
    "name": "ipython",
    "version": 3
   },
   "file_extension": ".py",
   "mimetype": "text/x-python",
   "name": "python",
   "nbconvert_exporter": "python",
   "pygments_lexer": "ipython3",
   "version": "3.7.3"
  }
 },
 "nbformat": 4,
 "nbformat_minor": 4
}
