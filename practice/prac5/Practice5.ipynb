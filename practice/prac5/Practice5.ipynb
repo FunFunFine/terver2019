{
 "cells": [
  {
   "cell_type": "markdown",
   "metadata": {},
   "source": [
    "# Практика 5. Дискретные случайные величины. Функция распределения. Матожидание. Дисперсия."
   ]
  },
  {
   "cell_type": "markdown",
   "metadata": {},
   "source": [
    "## Мотивация"
   ]
  },
  {
   "cell_type": "markdown",
   "metadata": {},
   "source": [
    "## Теория\n",
    "\n",
    "[Случайные величины](https://nsu.ru/mmf/tvims/chernova/tv/lec/node23.html#SECTION000710)\n",
    "\n",
    "[Распределения случайных величин](https://nsu.ru/mmf/tvims/chernova/tv/lec/node24.html#SECTION000720)\n",
    "\n",
    "[Функция распределения](https://nsu.ru/mmf/tvims/chernova/tv/lec/node25.html#SECTION000730)\n",
    "\n",
    "[Примеры дискретных распределений](https://nsu.ru/mmf/tvims/chernova/tv/lec/node26.html)"
   ]
  },
  {
   "cell_type": "markdown",
   "metadata": {},
   "source": [
    "## Видео"
   ]
  },
  {
   "cell_type": "markdown",
   "metadata": {},
   "source": [
    "[Случайные величины](https://stepik.org/lesson/48676/step/1?unit=26447)"
   ]
  },
  {
   "cell_type": "markdown",
   "metadata": {},
   "source": [
    "## Определения"
   ]
  },
  {
   "cell_type": "markdown",
   "metadata": {},
   "source": [
    "## Кодец"
   ]
  },
  {
   "cell_type": "code",
   "execution_count": 24,
   "metadata": {},
   "outputs": [],
   "source": [
    "import collections\n",
    "from fractions import Fraction\n",
    "import math\n",
    "\n",
    "class DRV(object):\n",
    "    def __init__(self, table):\n",
    "        if not isinstance(table, list):\n",
    "            raise ValueError()\n",
    "        if abs(sum(p for x, p in table) - 1) > 1e-5:\n",
    "            raise ValueError()\n",
    "        self.p = collections.defaultdict(Fraction)\n",
    "        for x, p in table:\n",
    "            self.p[x] += p\n",
    "    \n",
    "    def _get_compose(self, other, func):\n",
    "        return DRV([(func(x1, x2), p1 * p2) for x1, p1 in self.p.items() for x2, p2 in other.p.items()])\n",
    "    \n",
    "    def __add__(self, other):\n",
    "        return self._get_compose(other, lambda x1, x2: x1 + x2)\n",
    "\n",
    "    def __mul__(self, other):\n",
    "        return self._get_compose(other, lambda x1, x2: x1 * x2)\n",
    "    \n",
    "    def __str__(self):\n",
    "        sort = sorted(self.p.items(), key=lambda kv: kv[0])\n",
    "        return '\\n'.join([\"{}:{}\".format(x, p) for x, p in sort])\n",
    "    \n",
    "    def max(self, other):\n",
    "        return self._get_compose(other, lambda x1, x2: max(x1, x2))\n",
    "\n",
    "    def min(self, other):\n",
    "        return self._get_compose(other, lambda x1, x2: min(x1, x2))\n",
    "    \n",
    "    def toList(self):\n",
    "        sort = sorted(self.p.items(), key=lambda kv: kv[0])\n",
    "        return sort\n"
   ]
  },
  {
   "cell_type": "code",
   "execution_count": 23,
   "metadata": {},
   "outputs": [
    {
     "data": {
      "image/png": "[encoded data removed]",
      "text/plain": [
       "<Figure size 432x288 with 1 Axes>"
      ]
     },
     "metadata": {
      "needs_background": "light"
     },
     "output_type": "display_data"
    }
   ],
   "source": [
    "cube = [(i, Fraction(1, 6)) for i in range(2, 8)]\n",
    "ksi = DRV(cube)\n",
    "\n",
    "from matplotlib import pyplot as plt\n",
    "\n",
    "x = [i[0] for i in ksi.toList()]\n",
    "y = [i[1] for i in ksi.toList()]\n",
    "\n",
    "fig, ax = plt.subplots(1, 1)\n",
    "ax.plot( x,y, 'bo-', ms=8, label='ksi')\n",
    "ax.legend(loc='best', frameon=False)\n",
    "plt.grid()\n",
    "plt.show()"
   ]
  },
  {
   "cell_type": "markdown",
   "metadata": {},
   "source": [
    "## Задачи на пару"
   ]
  },
  {
   "cell_type": "markdown",
   "metadata": {},
   "source": [
    "**1.** У нас есть правильный кубик и неправильная монетка, на сторонах которой написаны $0$ и $1$: $0$ выпадает с вероятностью $\\frac{2}{3}$, $1$ соответственно $\\frac{1}{3}$. Пусть $\\xi$ - ДСВ, которая соответствует числу, выпавшему на грани первого кубика, а $\\mu$ - на неправильной монетке.\n",
    "\n",
    "Найти закон распределения, функцию распределения, матожидание и дисперсию случайной величины:\n",
    "* $\\theta = 2\\xi +\\mu +  3$\n",
    "* $\\theta = \\xi\\mu$\n",
    "* $\\theta = max(\\xi-4, \\mu)$"
   ]
  },
  {
   "cell_type": "markdown",
   "metadata": {},
   "source": [
    "**2.** В партии из 10 деталей имеется 8 стандартных. Наудачу отобраны две\n",
    "детали. Составить закон распределения числа стандартных деталей\n",
    "среди отобранных."
   ]
  },
  {
   "cell_type": "markdown",
   "metadata": {},
   "source": [
    "**3.** \n",
    "Случайным образом выстраиваются в шеренгу $n$ человек разного роста. Найдите вероятность того, что\n",
    "* самый низкий окажется $i$-м слева;\n",
    "* самый высокий окажется первым слева, а самый низкий -- последним слева;\n",
    "* самый высокий и самый низкий окажутся рядом;\n",
    "* между самым высоким и самым низким расположатся более $k$ человек."
   ]
  },
  {
   "cell_type": "markdown",
   "metadata": {},
   "source": [
    "## ДЗ"
   ]
  },
  {
   "cell_type": "markdown",
   "metadata": {},
   "source": [
    "**1.**\n",
    "Пусть случайные величины $\\xi$ и $\\eta$ независимы и распределены по закону Пуассона с параметрами $\\lambda$ и $\\mu$. Докажите, что величина $\\xi+\\eta$ тоже распределена по закону Пуассона и найдите параметр этого распределения.\n"
   ]
  },
  {
   "cell_type": "markdown",
   "metadata": {},
   "source": [
    "**1.** \n",
    "Произведение двух независимых равномерно распределенных на $\\{0,1,\\ldots,9\\}$ однозначных чисел $\\xi$ и $\\eta$ можно записать в виде $\\xi\\eta=10\\zeta_1+\\zeta_2$. Найти законы распределения $\\zeta_1$, и $\\zeta_2$. Зависимы ли $\\zeta_1$, и $\\zeta_2$?"
   ]
  },
  {
   "cell_type": "markdown",
   "metadata": {},
   "source": [
    "## Гробы"
   ]
  },
  {
   "cell_type": "markdown",
   "metadata": {},
   "source": [
    "Пусть случайные величины $\\xi_1,\\ldots, \\xi_n$ независимы в совокупности и распределены по закону Пуассона с параметрами $\\lambda_1,\\ldots, \\lambda_n$ соответственно. Докажите, что величина $\\sum_{i=1}^{n}\\xi_i$ тоже распределена по закону Пуассона и найдите параметр этого распределения.\n"
   ]
  }
 ],
 "metadata": {
  "kernelspec": {
   "display_name": "Python 3",
   "language": "python",
   "name": "python3"
  },
  "language_info": {
   "codemirror_mode": {
    "name": "ipython",
    "version": 3
   },
   "file_extension": ".py",
   "mimetype": "text/x-python",
   "name": "python",
   "nbconvert_exporter": "python",
   "pygments_lexer": "ipython3",
   "version": "3.7.3"
  }
 },
 "nbformat": 4,
 "nbformat_minor": 4
}
