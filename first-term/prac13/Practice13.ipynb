{
 "cells": [
  {
   "cell_type": "markdown",
   "metadata": {},
   "source": [
    "# Практика 13. Сходимости случайных величин. "
   ]
  },
  {
   "cell_type": "markdown",
   "metadata": {},
   "source": [
    "## Мотивация"
   ]
  },
  {
   "cell_type": "markdown",
   "metadata": {},
   "source": [
    "## Видео\n",
    "[Сходимости случайных величин](https://stepik.org/lesson/48680/step/1?unit=26451)"
   ]
  },
  {
   "cell_type": "markdown",
   "metadata": {},
   "source": [
    "## Теория"
   ]
  },
  {
   "cell_type": "markdown",
   "metadata": {},
   "source": [
    "[Сходимости](https://nsu.ru/mmf/tvims/chernova/tv/lec/node53.html#SECTION0001210)"
   ]
  },
  {
   "cell_type": "markdown",
   "metadata": {},
   "source": [
    "### Почти наверное\n",
    "$$\\xi_n \\overset{\\textrm{п.н.}}{\\to} \\xi$$\n",
    "\n",
    "Если\n",
    "\n",
    "$$P(\\{ \\omega \\in \\Omega : \\xi_n(\\omega) \\underset{n \\to \\infty}{\\to} \\xi(\\omega) \\}) = 1$$ \n",
    "\n",
    "или\n",
    "\n",
    "$$P(\\{ \\omega \\in \\Omega : \\xi_n(\\omega) \\underset{n \\to \\infty}{\\not\\to} \\xi(\\omega) \\}) = 0$$ \n",
    "\n",
    "или эквивалентно\n",
    "\n",
    "$$\\forall \\varepsilon > 0 : P(\\{ \\omega \\in \\Omega : \\sup_{k \\geq n} |\\xi_k(\\omega)-\\xi(\\omega)| > \\varepsilon \\}) \\underset{n \\to \\infty}{\\to} 0$$\n"
   ]
  },
  {
   "cell_type": "markdown",
   "metadata": {},
   "source": [
    "### По вероятности\n",
    "$$\\xi_n \\overset{\\mathbb{P}}{\\to} \\xi$$ \n",
    "\n",
    "Если\n",
    "\n",
    "$$\\forall \\varepsilon > 0 : P(\\{\\omega \\in \\Omega : |\\xi_n(\\omega)-\\xi(\\omega)| > \\varepsilon \\}) \\underset{n \\to \\infty}{\\to} 0$$"
   ]
  },
  {
   "cell_type": "markdown",
   "metadata": {},
   "source": [
    "### В среднем\n",
    "$$\\mathbb{E}|\\xi_n - \\xi|^p \\to 0$$"
   ]
  },
  {
   "cell_type": "markdown",
   "metadata": {},
   "source": [
    "## Задачи на пару"
   ]
  },
  {
   "cell_type": "markdown",
   "metadata": {},
   "source": [
    "\n",
    "**1.** Пусть $\\xi_n \\to \\xi$ п.н и $g(x)$ - непрерывная функция. Докажите, что $g(\\xi_n) \\to g(\\xi)$ п.н.\n",
    "\n",
    "**2.** Пусть $(\\xi_n - \\xi)^2 \\to 0$ п.н. Доказать, что $\\xi_n \\to \\xi$ п.н.\n",
    "\n",
    "**3.** Пусть $\\xi_n \\overset{\\mathbb{P}}{\\to} \\xi$ и $g(x)$ - непрерывная, дифференцируемая и монотонно возрастающая функция. Докажите, что $g(\\xi_n) \\overset{\\mathbb{P}}{\\to} g(\\xi)$.\n"
   ]
  },
  {
   "cell_type": "markdown",
   "metadata": {},
   "source": [
    "**4.** Если $\\xi_n \\overset{d}{\\to} const$, то $\\xi_n \\overset{\\mathbb{P}}{\\to} const$\n",
    "\n",
    "**5.** Пусть $\\{\\xi_i\\}_{i=1}^{\\infty}$ - положительно определенные и $E|\\xi_n - \\xi| \\to 0$. \n",
    "Сходится ли $E|\\xi_n + k| \\to E|\\xi+k|$ для k из $\\mathbb{R_{+}}$. \n",
    "Докажите, что в общем случае это не верно.\n"
   ]
  },
  {
   "cell_type": "markdown",
   "metadata": {},
   "source": [
    "## ДЗ"
   ]
  },
  {
   "cell_type": "markdown",
   "metadata": {},
   "source": [
    "**1.** Пусть $\\xi_n \\overset{\\textrm{п.н.}}{\\to} 1$ и $\\mu_n \\overset{\\textrm{п.н.}}{\\to} 1$. \n",
    "Тогда \n",
    "* $\\xi_n + \\mu_n \\overset{\\textrm{п.н.}}{\\to} 2$\n",
    "* $\\xi_n\\mu_n \\overset{\\textrm{п.н.}}{\\to} 1$\n",
    "\n",
    "**2.** Пусть $\\xi_n$ - последовательность независимых и равномерно распределенных на [0,1] случайных величин. \n",
    "Найдите распределение случайной величины $m_n=\\min (\\xi_1,\\ldots,\\xi_n)$. Докажите, что $m_n$ стремится почти наверное к 0\n",
    "\n",
    "**3.** Пусть $\\xi_n \\overset{\\textrm{п.н.}}{\\to} 1$ и $\\mu_n \\overset{\\textrm{п.н.}}{\\to} 1$. \n",
    "Тогда $\\frac{1}{\\xi_n + \\mu_n} \\overset{\\mathbb{P}}{\\to} \\frac{1}{2}$\n"
   ]
  },
  {
   "cell_type": "markdown",
   "metadata": {},
   "source": [
    "**4.** Пусть $\\alpha > 0$ и $E|\\xi_n|^\\alpha < \\infty$ при всех n. Доказать, что следующие\n",
    "утверждения эквивалентны:\n",
    "* $\\xi_n \\to \\xi$ по вероятности и $E|\\xi_n|^\\alpha \\to E|\\xi|^\\alpha < \\infty$ при $n \\to \\infty$;\n",
    "* $E|\\xi_n - \\xi|^\\alpha \\to 0$ при $n \\to \\infty$. "
   ]
  },
  {
   "cell_type": "markdown",
   "metadata": {},
   "source": [
    "## Гробы"
   ]
  },
  {
   "cell_type": "markdown",
   "metadata": {},
   "source": [
    "* Пусть $\\{\\xi_i\\}_{i=1}^{\\infty}$ с конечными матожиданием $\\mu$ и дисперсией $\\sigma^2$. Положим $\\eta_n = \\frac{\\xi_1 + \\ldots + \\xi_n}{\\xi_1^2 + \\ldots + \\xi_n^2}$. Доказать, что $\\eta_n$ сходится по вероятности и найти этот предел.\n",
    "\n",
    "\n",
    "* Пусть случайные величины $\\xi_1$, $\\xi_2$, ... независимы в совокупности и $\\xi_n \\to 0$ п. н. Доказать, что ряд $\\sum\\limits_{n=1}^{+\\infty} \\mathbb{P}\\lbrace{\\left|\\xi_n\\right| > 1\\rbrace}$ сходится.\n",
    "\n",
    "* Пусть $\\xi_n$ - последовательность независимых и равномерно распределенных на [0,1] случайных величин. Найдите распределение случайной величины $m_n=\\min (\\xi_1,\\ldots,\\xi_n)$. Докажите, что $m_n$ стремится почти наверное к 0\n",
    "\n",
    "* Пусть дана последовательность независимых одинаково распределенных случайных величин $X_1$, ..., $X_n$. Правило $\\hat{\\theta}(X_1, \\ldots, X_n)$ называется состоятельной оценкой параметра $\\theta$ распределения, если $\\hat{\\theta}_n \\overset{\\mathbb{P}}{\\to} \\theta$. Докажите, что если $E_{|X_1|^2}$ существует, то выборочное среднее $\\bar{X} = \\frac{1}{n}(X_1 + \\ldots + X_n)$ является состоятельной оценкой математического ожидания $E_{X_1}$.\n",
    "\n",
    "* Пусть $\\xi_1$, $\\xi_2$, ... - последовательность независимых случайных величин. $E \\xi_n^2 < \\sigma^2$ и $E\\xi_n = 0$. Докажите, что ряд $\\sum\\limits_{n=1}^{+\\infty}\\frac{\\xi_n}{2^n}$ сходится с вероятностью 1.\n",
    "\n",
    "* Пусть дана последовательность независимых случайных величин $X_n$. Докажите, что если $X_n$ сходится почти всюду, то предел - константа.\n",
    "\n",
    "* Пусть $\\xi_1$, $\\xi_2$, ... - последовательность независимых случайных величин. $E \\xi_n^2 < \\sigma^2$ и $E\\xi_n = 0$. Докажите, что ряд $\\sum\\limits_{n=1}^{+\\infty}\\frac{\\xi_n}{2^n}$ сходится с вероятностью 1.\n",
    "\n",
    "\n",
    "* Пусть случайные величины $\\xi_1$, $\\xi_2$, ... независимы в совокупности и $\\xi_n \\to 0$ п. н. Доказать, что ряд $\\sum\\limits_{n=1}^{+\\infty} \\mathbb{P}\\lbrace{\\left|\\xi_n\\right| > 1\\rbrace}$ сходится.\n",
    "\n",
    "* Пусть $\\xi_n$ - последовательность независимых и равномерно распределенных на [0,1] случайных величин. Найдите распределение случайной величины $m_n=\\min (\\xi_1,\\ldots,\\xi_n)$. Докажите, что $m_n$ стремится почти наверное к 0\n",
    "\n",
    "* Пусть дана последовательность независимых одинаково распределенных случайных величин $X_1$, ..., $X_n$. Правило $\\hat{\\theta}(X_1, ..., X_n)$ называется состоятельной оценкой параметра $\\theta$ распределения, если $\\hat{\\theta}_n \\overset{\\mathbb{P}}{\\to} \\theta$. Докажите, что если $E_{|X_1|^2}$ существует, то выборочное среднее $\\bar{X} = \\frac{1}{n}(X_1 + ... + X_n)$ является состоятельной оценкой математического ожидания $E_{X_1}$.\n",
    "\n",
    "* Пусть дана последовательность независимых случайных величин $X_n$. Докажите, что если $X_n$ сходится почти всюду, то предел - константа."
   ]
  }
 ],
 "metadata": {
  "kernelspec": {
   "display_name": "Python 3",
   "language": "python",
   "name": "python3"
  },
  "language_info": {
   "codemirror_mode": {
    "name": "ipython",
    "version": 3
   },
   "file_extension": ".py",
   "mimetype": "text/x-python",
   "name": "python",
   "nbconvert_exporter": "python",
   "pygments_lexer": "ipython3",
   "version": "3.7.3"
  }
 },
 "nbformat": 4,
 "nbformat_minor": 4
}
