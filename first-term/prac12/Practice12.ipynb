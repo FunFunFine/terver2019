{
 "cells": [
  {
   "cell_type": "markdown",
   "metadata": {},
   "source": [
    "# Практика 12. ЗБЧ и УЗБЧ. Леммы Бореля-Кантелли (закон нуля и единицы). Случайное блуждание."
   ]
  },
  {
   "cell_type": "markdown",
   "metadata": {},
   "source": [
    "## Мотивация"
   ]
  },
  {
   "cell_type": "markdown",
   "metadata": {},
   "source": [
    "## Видео"
   ]
  },
  {
   "cell_type": "markdown",
   "metadata": {},
   "source": [
    "[ЗБЧ](https://stepik.org/lesson/48670/step/9?unit=26442)\n",
    "\n",
    "[УЗБЧ](https://stepik.org/lesson/48670/step/10?unit=26442)\n",
    "\n",
    "[Леммы Борелля-Кантелли](https://stepik.org/lesson/48683/step/1?unit=26458)"
   ]
  },
  {
   "cell_type": "markdown",
   "metadata": {},
   "source": [
    "## Теория"
   ]
  },
  {
   "cell_type": "markdown",
   "metadata": {},
   "source": [
    "[Законы больших Чисел](https://nsu.ru/mmf/tvims/chernova/tv/lec/node55.html#SECTION0001230)\n",
    "\n",
    "[Использование ЗБЧ](https://nsu.ru/mmf/tvims/chernova/tv/lec/node56.html#SECTION0001240)"
   ]
  },
  {
   "cell_type": "markdown",
   "metadata": {},
   "source": [
    "### 1 Лемма Борелля-Кантелли\n",
    "\n",
    "Пусть есть последовательность (необязательно независимых) событий $\\{A_i\\}_{i=1}^{\\infty}$\n",
    "\n",
    "Обозначим событие $A = \\bigcap_{n=1}^{\\infty}\\bigcup_{i=n}^{\\infty}A_i$\n",
    "\n",
    "Пусть ряд сходится $\\sum_{i=1}^{\\infty}P(A_i) < \\infty$\n",
    "\n",
    "Тогда $P(A) = 0$\n",
    "\n",
    "### 2 Лемма Борелля-Кантелли\n",
    "\n",
    "Пусть есть последовательность совместно независимых событий $\\{A_i\\}_{i=1}^{\\infty}$\n",
    "\n",
    "Обозначим событие $A = \\bigcap_{n=1}^{\\infty}\\bigcup_{i=n}^{\\infty}A_i$\n",
    "\n",
    "Пусть ряд расходится $\\sum_{i=1}^{\\infty}P(A_i) \\to \\infty$\n",
    "\n",
    "Тогда $P(A) = 1$"
   ]
  },
  {
   "cell_type": "markdown",
   "metadata": {},
   "source": [
    "### Закон больших чисел Чебышева\n",
    "Для **попарно независимых и одинаковораспределенных**\n",
    "$\\{\\xi_i\\}_{i=1}^{\\infty}$ с конечными **вторыми** моментами\n",
    "$$\\frac{\\sum_{i=1}^n\\xi_i}{n} \\overset{\\mathbb{P}}{\\to} \\mathbb{E}\\xi_1$$\t\n",
    "\n",
    "### Закон больших чисел Хинчина\n",
    "Для **в совокупности независимых и одинаковораспределенных**\n",
    "$\\{\\xi_i\\}_{i=1}^{\\infty}$ с конечными **первыми** моментами\n",
    "$$\\frac{\\sum_{i=1}^n\\xi_i}{n} \\overset{\\mathbb{P}}{\\to} \\mathbb{E}\\xi_1$$\t\n",
    "\n",
    "### Закон больших чисел Маркова\n",
    "Для **необязательно независимых и необязательно одинаковораспределенных**\n",
    "$\\{\\xi_i\\}_{i=1}^{\\infty}$, для которых $\\sum_{i=1}^{n}\\mathbb{D}(\\xi_i) = o(n^2)$\n",
    "$$\\frac{\\sum_{i=1}^n\\xi_i}{n} \\overset{\\mathbb{P}}{\\to} \\mathbb{E}\\xi_1$$\n",
    "\n",
    "### Усиленный Закон больших чисел Колмогорова\n",
    "Для тех же условий, что и обычные ЗБЧ\n",
    "$$\\frac{\\sum_{i=1}^n\\xi_i}{n} \\overset{\\textrm{п.н.}}{\\to} \\mathbb{E}\\xi_1$$"
   ]
  },
  {
   "cell_type": "markdown",
   "metadata": {},
   "source": [
    "## Задачи на пару"
   ]
  },
  {
   "cell_type": "markdown",
   "metadata": {},
   "source": [
    "**1.** Пусть $\\xi_n$ принимает значения $n$, $-n$, 0 c вероятностями:\n",
    "$\\frac{1}{2\\sqrt{n}}$, $\\frac{1}{2\\sqrt{n}}$, $1 - \\frac{1}{\\sqrt{n}}$\n",
    "Выполнен ли закон больших чисел?"
   ]
  },
  {
   "cell_type": "markdown",
   "metadata": {},
   "source": [
    "**2.** Пусть $\\xi_n$ принимает значения $n^3$, $-n^3$, 0 c вероятностями:\n",
    "* $\\frac{1}{2\\sqrt{n}}$, $\\frac{1}{2\\sqrt{n}}$, $1 - \\frac{1}{\\sqrt{n}}$\n",
    "* $\\frac{1}{2n}$, $\\frac{1}{2}$, $1 - \\frac{1}{n}$\n",
    "Выполнен ли закон больших чисел?"
   ]
  },
  {
   "cell_type": "markdown",
   "metadata": {},
   "source": [
    "**3.** Пусть $\\xi_n$ принимает значения $n$, $-n$ и $0$ с вероятностями $\\frac{1}{2n^2}$, $\\frac{1}{2n^2}$ и $1 - \\frac{1}{n^2}$. Выполнен ли для этой последовательности закон больших чисел? "
   ]
  },
  {
   "cell_type": "markdown",
   "metadata": {},
   "source": [
    "**4.** Точка путешествует по целым числам. Каждый раз она шагает на $1$, с вероятностью $p$ — вправо, с вероятностью $1-p$ — влево. \n",
    "Докажите, что при $p \\neq \\frac{1}{2}$ вероятность того, что она вернется в исходное положение бесконечное число раз равна $0$.\n"
   ]
  },
  {
   "cell_type": "markdown",
   "metadata": {},
   "source": [
    "## ДЗ"
   ]
  },
  {
   "cell_type": "markdown",
   "metadata": {},
   "source": [
    "## Гробы"
   ]
  },
  {
   "cell_type": "markdown",
   "metadata": {},
   "source": [
    "**(Теорема Пойа)** \n",
    "* Точка начинает путешествие по целочисленной решетке в $\\mathbb{R}^2$ с одинаковыми вероятностями пойти в любое направление.\n",
    "Докажите что с вероятностью 1, точка когда-нибудь вернется в начальную точку.\n",
    "* Докажите, что для $\\mathbb{R}^3$ предыдущее утверждение неверно."
   ]
  }
 ],
 "metadata": {
  "kernelspec": {
   "display_name": "Python 3",
   "language": "python",
   "name": "python3"
  },
  "language_info": {
   "codemirror_mode": {
    "name": "ipython",
    "version": 3
   },
   "file_extension": ".py",
   "mimetype": "text/x-python",
   "name": "python",
   "nbconvert_exporter": "python",
   "pygments_lexer": "ipython3",
   "version": "3.7.3"
  }
 },
 "nbformat": 4,
 "nbformat_minor": 4
}
