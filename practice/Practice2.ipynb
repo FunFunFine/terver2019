{
 "cells": [
  {
   "cell_type": "markdown",
   "metadata": {},
   "source": [
    "## Практика 2. Схема Бернулли. Теорема Пуассона."
   ]
  },
  {
   "cell_type": "markdown",
   "metadata": {},
   "source": [
    "### Теория\n",
    "[Схема Бернулли](https://nsu.ru/mmf/tvims/chernova/tv/lec/node17.html)\n",
    "\n",
    "[Теорема Пуассона](https://nsu.ru/mmf/tvims/chernova/tv/lec/node21.html)"
   ]
  },
  {
   "cell_type": "markdown",
   "metadata": {},
   "source": [
    "### Видеоматериалы\n",
    "[Схема Бернулли](https://www.youtube.com/watch?v=vU5n49K3HU4&list=PLwwk4BHih4fiHFHG7Bvj5TZdw-H_s4TsA&index=6&t=0s)\n",
    "\n",
    "[Теорема Пуассона](https://www.youtube.com/watch?v=Smzjv-sFR2Y&list=PLwwk4BHih4fiHFHG7Bvj5TZdw-H_s4TsA&index=10&t=0s)"
   ]
  },
  {
   "cell_type": "markdown",
   "metadata": {},
   "source": [
    "### Основные формулы\n",
    "\n",
    "$$P = C_n^kp^k(1-p)^{n-k}$$\n",
    "\n",
    "Формула стирлинга:\n",
    "$$n! \\sim \\sqrt{2\\pi n}\\Big(\\frac{n}{e}\\Big)^{n}$$"
   ]
  },
  {
   "cell_type": "markdown",
   "metadata": {},
   "source": [
    "### Задачи на пару"
   ]
  },
  {
   "cell_type": "markdown",
   "metadata": {},
   "source": [
    "**1.**\n",
    "В урне находится m шаров, из которых $m_1$ белых и $m_2$ черных $(m 1 + m 2 = m)$. Производится $n$ извлечений одного шара с возвращением его (после определения его цвета) обратно в урну. Найдите вероятность того, что ровно r раз из n будет извлечен белый шар."
   ]
  },
  {
   "cell_type": "markdown",
   "metadata": {},
   "source": [
    "**2.** Вероятность отказа каждого прибора при испытании равна 0,2. Сколько таких приборов нужно испытать, чтобы с вероятностью не менее 0,9 получить не меньше трех отказов?"
   ]
  },
  {
   "cell_type": "markdown",
   "metadata": {},
   "source": [
    "**3.** Доказать теорему Пуассона: \n",
    "Eсли\n",
    "* $\\lim_{n \\to \\infty}p_n = 0$\n",
    "* $\\lim_{n\\to \\infty}np_n = \\lambda$\n",
    "* $\\lambda > 0$\n",
    "* k - константа\n",
    "то\n",
    "$$\\lim_{n \\to \\infty}C_n^{k}p_n^k q_n^{n-k} = \\frac{\\lambda^{k}e^{-\\lambda}}{k!}$$"
   ]
  },
  {
   "cell_type": "markdown",
   "metadata": {},
   "source": [
    "**4.** Среди семян пшеницы 0.6% семян сорняков. Какова вероятность при случайном отборе 1000 семян обнаружить \n",
    "* 0 семян сорняков\n",
    "* ровно 6 семян сорняков\n",
    "* меньше 3 семян сорняков\n",
    "* больше 2 семян сорняков"
   ]
  },
  {
   "cell_type": "markdown",
   "metadata": {},
   "source": [
    "### ДЗ"
   ]
  },
  {
   "cell_type": "markdown",
   "metadata": {},
   "source": [
    "(Задача Стефана Банаха) В двух спичечных коробках имеется по n спичек. На каждом шаге наугад выбирается коробок, и из него удаляется (используется) одна спичка. Найдите вероятность того, что в момент, когда один из коробков опустеет, в другом останется k спичек."
   ]
  },
  {
   "cell_type": "markdown",
   "metadata": {},
   "source": [
    "**2.** Вероятность попадания в цель при одном выстреле равна 0,001. Для поражения цели необходимо не менее двух попаданий. Произведено 5000 выстрелов. Найти вероятность поражения цели"
   ]
  },
  {
   "cell_type": "markdown",
   "metadata": {},
   "source": [
    "**3.** Некоторая машина состоит из 10 тысяч деталей. Каждая деталь независимо от других деталей может оказаться неисправной с вероятностью $p_i$, причём \n",
    "* для $n_1 = 1000$ деталей $p_1 = 0,0003$\n",
    "* для $n_2 = 2000$ деталей $p_2 = 0,0002$\n",
    "* для $n_3 = 7000$ деталей $p_3 = 0,0001$\n",
    "\n",
    "Машина не работает, если в ней неисправны хотя бы две детали. Найти вероятность того, что машина не будет работать."
   ]
  },
  {
   "cell_type": "markdown",
   "metadata": {},
   "source": [
    "### Гробы"
   ]
  },
  {
   "cell_type": "markdown",
   "metadata": {},
   "source": [
    "В корзине лежит n шариков. В ходе эксперимента с равными вероятностями вытаскивают шарики из корзины и кладут обратно. Эксперимент заканчивается, когда один из шариков достали k раз. Определить вероятность того, что для этого придется производить m < 2k вытаскиваний."
   ]
  },
  {
   "cell_type": "markdown",
   "metadata": {},
   "source": [
    "### Мотивация"
   ]
  }
 ],
 "metadata": {
  "kernelspec": {
   "display_name": "Python 3",
   "language": "python",
   "name": "python3"
  },
  "language_info": {
   "codemirror_mode": {
    "name": "ipython",
    "version": 3
   },
   "file_extension": ".py",
   "mimetype": "text/x-python",
   "name": "python",
   "nbconvert_exporter": "python",
   "pygments_lexer": "ipython3",
   "version": "3.7.3"
  }
 },
 "nbformat": 4,
 "nbformat_minor": 4
}
