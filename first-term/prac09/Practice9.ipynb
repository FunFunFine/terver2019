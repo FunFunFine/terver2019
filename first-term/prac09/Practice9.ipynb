{
 "cells": [
  {
   "cell_type": "markdown",
   "metadata": {},
   "source": [
    "# Практика 9. Совместные распределения. Ковариация."
   ]
  },
  {
   "cell_type": "markdown",
   "metadata": {},
   "source": [
    "## Мотивация"
   ]
  },
  {
   "cell_type": "markdown",
   "metadata": {},
   "source": [
    "## Видео"
   ]
  },
  {
   "cell_type": "markdown",
   "metadata": {},
   "source": [
    "[Совместное распределение](https://stepik.org/lesson/48677/step/1?unit=26448)"
   ]
  },
  {
   "cell_type": "markdown",
   "metadata": {},
   "source": [
    "## Теория"
   ]
  },
  {
   "cell_type": "markdown",
   "metadata": {},
   "source": [
    "[Совместное распределение](https://nsu.ru/mmf/tvims/chernova/tv/lec/node34.html#SECTION000910)\n",
    "\n",
    "[Типы многомерных распределений](https://nsu.ru/mmf/tvims/chernova/tv/lec/node35.html)\n",
    "\n",
    "[Примеры многомерных распределений](https://nsu.ru/mmf/tvims/chernova/tv/lec/node36.html)\n",
    "\n",
    "[Многомерная независимость](https://nsu.ru/mmf/tvims/chernova/tv/lec/node38.html)"
   ]
  },
  {
   "cell_type": "markdown",
   "metadata": {},
   "source": [
    "## Определения"
   ]
  },
  {
   "cell_type": "markdown",
   "metadata": {},
   "source": [
    "$$F_{\\xi,\\eta}(x,y) = P(\\xi \\leq x, \\eta \\leq y) = \\int_{-\\infty}^{x}\\int_{-\\infty}^{y}\\rho_{\\xi,\\eta}(x,y)dxdy$$"
   ]
  },
  {
   "cell_type": "markdown",
   "metadata": {},
   "source": [
    "## Задачи на пару"
   ]
  },
  {
   "cell_type": "markdown",
   "metadata": {},
   "source": [
    "**1.**\n",
    "Совместное распределение случайных величин $\\xi$ и $\\eta$ имеет плотность\n",
    "$$\\rho_{\\xi,\\eta}(x,y) =\\left\\{\n",
    "\t\\begin{array}{cc}\n",
    "\tx+y, & 0\\leq x\\leq 1, 0\\leq y\\leq 1 \\\\\n",
    "\t0, & otherwise\n",
    "\t\\end{array}\\right.$$\n",
    "Найдите \n",
    "\n",
    "* $E_{\\xi}$, $E_{\\eta}$\n",
    "* $D_{\\xi}$, $D_{\\eta}$\n",
    "* $E_{\\xi\\eta}$\n",
    "* $cov(\\xi,\\eta)$.\n",
    "\n",
    "**2.** Случайные величины $\\xi$ и $\\eta$ независимы и нормально распределены с параметрами $\\mu$ и $\\sigma$ . Найти коэффициент корреляции величин\n",
    "$a\\xi + b\\eta$ и $a\\xi - b\\eta$.\n",
    "\n",
    "**3.** Найти коэффициент корреляции между $\\xi$ и $\\eta = e^{-\\xi}$ , если \n",
    "$\\xi$ имеет стандартное нормальное распределение $N(0,1)$."
   ]
  },
  {
   "cell_type": "markdown",
   "metadata": {},
   "source": [
    "**4.** Найти коэффициент корреляции между $\\xi$ и $\\xi^2$, если:\n",
    "* $P\\lbrace{\\xi = 0\\rbrace} = 1/3, P\\lbrace{\\xi = 1\\rbrace} = 1/2, P\\lbrace{\\xi = -1\\rbrace} = 1/6$;\n",
    "* $P\\lbrace{\\xi = -2\\rbrace} = P\\lbrace{\\xi = -1\\rbrace} = P\\lbrace{\\xi = 1\\rbrace} = P\\lbrace{\\xi = 2\\rbrace} = 1/4$.\n",
    "\n",
    "**5.** Найти коэффициент корреляции между числом ``единиц`` и числом ``шестёрок`` при $n$ бросаниях правильной игральной кости.\n",
    "**6.** Пусть $\\xi_1, \\xi_2, ... $ - независимые случайные величины, принимающие значения $1$ и $0$ с вероятностями $p$ и $1 - p$ соответственно. Найти среднее значение и дисперсию суммы $\\zeta = \\eta_1 + ... + \\eta_n$, если:\n",
    "* $\\eta_i = \\xi_i \\xi_{i + 1}$;\n",
    "* $\\eta_i = \\xi_i \\xi_{i + 1} \\xi_{i + 2}$;\n",
    "* $\\eta_i = 0$, если $\\xi_i + \\xi_{i + 1}$ - чётное число\\\\\n",
    "  $\\eta_i = 1$, иначе\n",
    "\n",
    "**7.**Произведение двух независимых равномерно распределенных на $\\{0,1,\\ldots,9\\}$ однозначных чисел $\\xi$ и $\\eta$ можно записать в виде $\\xi\\eta=10\\zeta_1+\\zeta_2$. Найти законы распределения $\\zeta_1$, и $\\zeta_2$. Зависимы ли $\\zeta_1$, и $\\zeta_2$? \n",
    "\t"
   ]
  },
  {
   "cell_type": "markdown",
   "metadata": {},
   "source": [
    "## ДЗ"
   ]
  },
  {
   "cell_type": "markdown",
   "metadata": {},
   "source": [
    "**1.** Совместное распределение случайных величин $\\xi$ и $\\eta$ имеет плотность\n",
    "$$\\rho_{\\xi,\\eta}(x,y) =\\left\\{\n",
    "\t\\begin{array}{cc}\n",
    "\t\\frac{3}{2}(x^2+y^2), & 0\\leq x\\leq 1, 0\\leq y\\leq 1 \\\\\n",
    "\t0, & otherwise\n",
    "\t\\end{array}\\right.$$\n",
    "Найдите \n",
    "* $E_{\\xi}$, $E_{\\eta}$\n",
    "* $D_{\\xi}$, $D_{\\eta}$\n",
    "* $cov(\\xi,\\eta)$.\n",
    "\n",
    "**2.** Пусть $X$,$Y$ - независимые случайные величины с ф.р.$FX=1-e^{-ax}$,$FY=1-e^{-by}$,$x,y,a,b>0$. Найти $E(XY)$.\n",
    "\n",
    "**3.** Найти коэффициент корреляции между $\\xi$ и $\\eta = e^{-\\xi}$ , если \n",
    "$\\xi$ имеет нормальное распределение с параметрами $\\mu$ и $\\sigma$.\n",
    "\n",
    "**4.** Доказать, что не существует трех случайных величин $\\xi$, $\\eta$ и\n",
    "$\\theta$ таких, что коэффициент корреляции любых двух из них равен -1.\n",
    "\n",
    "**5.** Пусть случайные величины $\\xi$ и $\\eta$ имеют нулевые средние зна-\n",
    "чения, единичные дисперсии\n",
    "и коэффициент корреляции $c$. Показать,\n",
    "что $E\\max{(\\xi^2,\\eta^2)} \\geq 1 + \\sqrt{1 - c^2} $."
   ]
  },
  {
   "cell_type": "markdown",
   "metadata": {},
   "source": [
    "## Гробы"
   ]
  }
 ],
 "metadata": {
  "kernelspec": {
   "display_name": "Python 3",
   "language": "python",
   "name": "python3"
  },
  "language_info": {
   "codemirror_mode": {
    "name": "ipython",
    "version": 3
   },
   "file_extension": ".py",
   "mimetype": "text/x-python",
   "name": "python",
   "nbconvert_exporter": "python",
   "pygments_lexer": "ipython3",
   "version": "3.6.8"
  }
 },
 "nbformat": 4,
 "nbformat_minor": 4
}
