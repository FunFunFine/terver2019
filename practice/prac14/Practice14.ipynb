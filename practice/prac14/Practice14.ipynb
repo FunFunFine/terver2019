{
 "cells": [
  {
   "cell_type": "markdown",
   "metadata": {},
   "source": [
    "# Практика 14. Слабая сходимость."
   ]
  },
  {
   "cell_type": "markdown",
   "metadata": {},
   "source": [
    "## Мотивация"
   ]
  },
  {
   "cell_type": "markdown",
   "metadata": {},
   "source": [
    "## Видео"
   ]
  },
  {
   "cell_type": "markdown",
   "metadata": {},
   "source": [
    "[Слабая сходимость](https://stepik.org/lesson/48680/step/4?unit=26451)"
   ]
  },
  {
   "cell_type": "markdown",
   "metadata": {},
   "source": [
    "## Теория"
   ]
  },
  {
   "cell_type": "markdown",
   "metadata": {},
   "source": [
    "[Слабая сходимость](https://nsu.ru/mmf/tvims/chernova/tv/lec/node59.html)"
   ]
  },
  {
   "cell_type": "markdown",
   "metadata": {},
   "source": [
    "Последовательность $\\xi_n$ слабо сходистся к $\\xi$ \n",
    "\n",
    "$$\\xi_n \\overset{d}{\\to} \\xi$$"
   ]
  },
  {
   "cell_type": "markdown",
   "metadata": {},
   "source": [
    "* если для любой непрерывной функции $\\phi(x)$ определенной на $\\mathbb{R}$   \n",
    "$$\\int_{\\Omega}\\phi(\\xi_n(\\omega))\\mathbb{P}(d\\omega) \\to \\int_{\\Omega}\\phi(\\xi(\\omega))\\mathbb{P}(d\\omega)$$\n"
   ]
  },
  {
   "cell_type": "markdown",
   "metadata": {},
   "source": [
    "* если для последовательности мер $\\mu_n \\to \\mu$\n",
    "$$\\int_{\\mathbb{R}}\\phi(x)\\mu_n(dx) \\to \\int_{\\mathbb{R}}\\phi(x)\\mu(dx)$$"
   ]
  },
  {
   "cell_type": "markdown",
   "metadata": {},
   "source": [
    "* если сходятся функции распределения $F_{\\mu}(x) = \\mu((-\\infty, x))$ сходятся поточечено\n",
    "\n",
    "$$\\forall x F_{\\xi_n}(x) \\to F_{\\xi}(x)$$"
   ]
  },
  {
   "cell_type": "markdown",
   "metadata": {},
   "source": [
    "## Задачи на пару"
   ]
  },
  {
   "cell_type": "markdown",
   "metadata": {},
   "source": [
    "**1**. Пусть $\\xi_n \\overset{d}{\\to} \\xi$ и $g(x)$ - непрерывная функция. Докажите, что $g(\\xi_n) \\overset{d}{\\to} g(\\xi)$"
   ]
  },
  {
   "cell_type": "markdown",
   "metadata": {},
   "source": [
    "**2.** Пусть $\\xi_n \\overset{d}{\\to} \\xi$ и $\\mu_n \\overset{d}{\\to} \\mu$. Для любой непрерывной функции f.\n",
    "$f(\\xi_n,\\mu_n) \\overset{\\textrm{d}}{\\to} f(\\xi, \\mu)$"
   ]
  },
  {
   "cell_type": "markdown",
   "metadata": {},
   "source": []
  },
  {
   "cell_type": "markdown",
   "metadata": {},
   "source": [
    "## Гробы"
   ]
  },
  {
   "cell_type": "markdown",
   "metadata": {},
   "source": [
    "## ДЗ"
   ]
  }
 ],
 "metadata": {
  "kernelspec": {
   "display_name": "Python 3",
   "language": "python",
   "name": "python3"
  },
  "language_info": {
   "codemirror_mode": {
    "name": "ipython",
    "version": 3
   },
   "file_extension": ".py",
   "mimetype": "text/x-python",
   "name": "python",
   "nbconvert_exporter": "python",
   "pygments_lexer": "ipython3",
   "version": "3.7.3"
  }
 },
 "nbformat": 4,
 "nbformat_minor": 4
}
