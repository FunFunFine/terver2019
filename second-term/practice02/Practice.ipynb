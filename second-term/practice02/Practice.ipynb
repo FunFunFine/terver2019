{
 "cells": [
  {
   "cell_type": "markdown",
   "metadata": {},
   "source": [
    "# Практика 2. ЗБЧ и УЗБЧ. Леммы Бореля-Кантелли (закон нуля и единицы). Случайное блуждание."
   ]
  },
  {
   "cell_type": "markdown",
   "metadata": {},
   "source": [
    "## Видео"
   ]
  },
  {
   "cell_type": "markdown",
   "metadata": {},
   "source": [
    "[ЗБЧ](https://stepik.org/lesson/48670/step/9?unit=26442)\n",
    "\n",
    "[УЗБЧ](https://stepik.org/lesson/48670/step/10?unit=26442)\n",
    "\n",
    "[Леммы Борелля-Кантелли](https://stepik.org/lesson/48683/step/1?unit=26458)"
   ]
  },
  {
   "cell_type": "markdown",
   "metadata": {},
   "source": [
    "## Теория"
   ]
  },
  {
   "cell_type": "markdown",
   "metadata": {},
   "source": [
    "[Законы больших Чисел](https://nsu.ru/mmf/tvims/chernova/tv/lec/node55.html#SECTION0001230)\n",
    "\n",
    "[Использование ЗБЧ](https://nsu.ru/mmf/tvims/chernova/tv/lec/node56.html#SECTION0001240)"
   ]
  },
  {
   "cell_type": "markdown",
   "metadata": {},
   "source": [
    "### Выборочное среднее:\n",
    "$$\\overline{X} = \\frac{X_1 + \\ldots + X_n}{n}$$\n",
    "\n",
    "### Неравенство Маркова\n",
    "Пусть $\\xi$ - неотрицательная, $E\\xi$ - существует и конечно, $a>0$ тогда\n",
    "$$P(\\xi \\geq a) \\leq \\frac{E\\xi}{a}$$\n",
    "\n",
    "Для неотрицательной, монотонно неубывающей ф-ии $\\phi$\n",
    "$$P(\\phi(\\xi) \\geq \\phi(a)) \\leq \\frac{E\\phi(\\xi)}{\\phi(a)}$$\n",
    "\n",
    "### Неравенство Чебышева\n",
    "Пусть $E\\xi$ и $D\\xi$ - существуют и конечны, $a>0$ тогда\n",
    "$$P(|\\xi - E\\xi| \\geq a) \\leq \\frac{D\\xi}{a^2}$$\n",
    "\n",
    "### Неравенство Хёфдинга\n",
    "Если случайные величины $X_1,\\dots,X_n$ принимают значения из некоторого отрезка длины $d$, имеют место неравенства Хёфдинга: для всех $c>0$\n",
    "$$P({|\\overline{X}-\\mathbb{E}{X}_1|\\geq c})\\leq 2e^{-2nc^2/d^2}$$\n",
    "\n",
    "Нам хватит и такого:\n",
    "$$P({\\overline{X}-\\mathbb{E}{X}_1\\geq c})\\leq 2e^{-2nc^2/d^2}.$$\n",
    "\n",
    "### Граница Черновой\n",
    "Если случайные величины $X_1,\\dots,X_n$ принимают значения из некоторого отрезка $[0;1]$, и $M = E(X_1 + \\ldots + X_n)$ то для всех $\\delta>0$\n",
    "$$P(X_1 + \\ldots + X_n \\geq (1 + \\delta)M)\\leq e^{M(\\delta - (1+\\delta)\\ln(1+\\delta))}$$\n"
   ]
  },
  {
   "cell_type": "markdown",
   "metadata": {},
   "source": [
    "### 1 Лемма Борелля-Кантелли\n",
    "\n",
    "Пусть есть последовательность (необязательно независимых) событий $\\{A_i\\}_{i=1}^{\\infty}$\n",
    "\n",
    "Обозначим событие $A = \\bigcap_{n=1}^{\\infty}\\bigcup_{i=n}^{\\infty}A_i$\n",
    "\n",
    "Пусть ряд сходится $\\sum_{i=1}^{\\infty}P(A_i) < \\infty$\n",
    "\n",
    "Тогда $P(A) = 0$\n",
    "\n",
    "### 2 Лемма Борелля-Кантелли\n",
    "\n",
    "Пусть есть последовательность совместно независимых событий $\\{A_i\\}_{i=1}^{\\infty}$\n",
    "\n",
    "Обозначим событие $A = \\bigcap_{n=1}^{\\infty}\\bigcup_{i=n}^{\\infty}A_i$\n",
    "\n",
    "Пусть ряд расходится $\\sum_{i=1}^{\\infty}P(A_i) \\to \\infty$\n",
    "\n",
    "Тогда $P(A) = 1$"
   ]
  },
  {
   "cell_type": "markdown",
   "metadata": {},
   "source": [
    "## Задачи на пару"
   ]
  },
  {
   "cell_type": "markdown",
   "metadata": {},
   "source": [
    "**1.** Точка путешествует по целым числам. Каждый раз она шагает на $1$, с вероятностью $p$ — вправо, с вероятностью $1-p$ — влево. \n",
    "Докажите, что при $p \\neq \\frac{1}{2}$ вероятность того, что она вернется в исходное положение бесконечное число раз равна $0$.\n"
   ]
  },
  {
   "cell_type": "markdown",
   "metadata": {},
   "source": [
    "**2.** Пусть $\\xi_n \\to \\xi$ п.н и $g(x)$ - непрерывная функция. Докажите, что $g(\\xi_n) \\to g(\\xi)$ п.н.\n"
   ]
  },
  {
   "cell_type": "markdown",
   "metadata": {},
   "source": [
    "**3.** Пусть $(\\xi_n - \\xi)^2 \\to 0$ п.н. Доказать, что $\\xi_n \\to \\xi$ п.н.\n"
   ]
  },
  {
   "cell_type": "markdown",
   "metadata": {},
   "source": [
    "**4.** Пусть $\\xi_n \\overset{\\mathbb{P}}{\\to} \\xi$ и $g(x)$ - непрерывная, дифференцируемая и монотонно возрастающая функция. Докажите, что $g(\\xi_n) \\overset{\\mathbb{P}}{\\to} g(\\xi)$.\n",
    "\n"
   ]
  },
  {
   "cell_type": "markdown",
   "metadata": {},
   "source": [
    "## ДЗ"
   ]
  },
  {
   "cell_type": "markdown",
   "metadata": {},
   "source": [
    "**1.** (2) Точка путешествует по целым числам. Каждый раз она шагает на $1$, с вероятностью $p$ — вправо, с вероятностью $1-p$ — влево. \n",
    "Докажите, что при $p = \\frac{1}{2}$ вероятность того, что она вернется в исходное положение бесконечное число раз равна $1$."
   ]
  },
  {
   "cell_type": "markdown",
   "metadata": {},
   "source": [
    "**2.** Пусть $\\xi_n \\overset{\\textrm{п.н.}}{\\to} 1$ и $\\mu_n \\overset{\\textrm{п.н.}}{\\to} 1$. \n",
    "Тогда \n",
    "- (1)$\\xi_n + \\mu_n \\overset{\\textrm{п.н.}}{\\to} 2$\n",
    "- (1)$\\xi_n\\mu_n \\overset{\\textrm{п.н.}}{\\to} 1$"
   ]
  },
  {
   "cell_type": "markdown",
   "metadata": {},
   "source": [
    "**3.** (2)Пусть $\\xi_n$ - последовательность независимых и равномерно распределенных на [0,1] случайных величин. \n",
    "\n",
    "Найдите распределение случайной величины $m_n=\\min (\\xi_1,\\ldots,\\xi_n)$. Докажите, что $m_n$ стремится почти наверное к 0"
   ]
  },
  {
   "cell_type": "markdown",
   "metadata": {},
   "source": [
    "**4.** (1)Пусть $\\xi_n \\overset{\\textrm{п.н.}}{\\to} 1$ и $\\mu_n \\overset{\\textrm{п.н.}}{\\to} 1$. \n",
    "Тогда $\\frac{1}{\\xi_n + \\mu_n} \\overset{\\mathbb{P}}{\\to} \\frac{1}{2}$"
   ]
  },
  {
   "cell_type": "markdown",
   "metadata": {},
   "source": [
    "## Гробы"
   ]
  },
  {
   "cell_type": "markdown",
   "metadata": {},
   "source": [
    "**1.** (Теорема Пойа) \n",
    "(2) Точка начинает путешествие по целочисленной решетке в $\\mathbb{R}^2$ с одинаковыми вероятностями пойти в любое направление.\n",
    "Докажите что с вероятностью 1, точка когда-нибудь вернется в начальную точку."
   ]
  },
  {
   "cell_type": "markdown",
   "metadata": {},
   "source": [
    "**2.** (2) Докажите, что для $\\mathbb{R}^3$ предыдущее утверждение неверно."
   ]
  }
 ],
 "metadata": {
  "kernelspec": {
   "display_name": "Python 3",
   "language": "python",
   "name": "python3"
  },
  "language_info": {
   "codemirror_mode": {
    "name": "ipython",
    "version": 3
   },
   "file_extension": ".py",
   "mimetype": "text/x-python",
   "name": "python",
   "nbconvert_exporter": "python",
   "pygments_lexer": "ipython3",
   "version": "3.6.8"
  }
 },
 "nbformat": 4,
 "nbformat_minor": 2
}
