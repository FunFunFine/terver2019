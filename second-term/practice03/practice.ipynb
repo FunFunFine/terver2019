{
 "cells": [
  {
   "cell_type": "markdown",
   "metadata": {},
   "source": [
    "# Практика 3. Закон больших чисел и усиленный закон больших чисел"
   ]
  },
  {
   "cell_type": "markdown",
   "metadata": {},
   "source": [
    "## Видео"
   ]
  },
  {
   "cell_type": "markdown",
   "metadata": {},
   "source": [
    "[ЗБЧ](https://stepik.org/lesson/48670/step/9?unit=26442)\n",
    "\n",
    "[УЗБЧ](https://stepik.org/lesson/48670/step/10?unit=26442)\n",
    "\n",
    "[Леммы Борелля-Кантелли](https://stepik.org/lesson/48683/step/1?unit=26458)"
   ]
  },
  {
   "cell_type": "markdown",
   "metadata": {},
   "source": [
    "## Теория"
   ]
  },
  {
   "cell_type": "markdown",
   "metadata": {},
   "source": [
    "[Законы больших Чисел](https://nsu.ru/mmf/tvims/chernova/tv/lec/node55.html#SECTION0001230)\n",
    "\n",
    "[Использование ЗБЧ](https://nsu.ru/mmf/tvims/chernova/tv/lec/node56.html#SECTION0001240)"
   ]
  },
  {
   "cell_type": "markdown",
   "metadata": {},
   "source": [
    "### Выборочное среднее:\n",
    "$$\\overline{X} = \\frac{X_1 + \\ldots + X_n}{n}$$\n",
    "\n",
    "### Неравенство Маркова\n",
    "Пусть $\\xi$ - неотрицательная, $E\\xi$ - существует и конечно, $a>0$ тогда\n",
    "$$P(\\xi \\geq a) \\leq \\frac{E\\xi}{a}$$\n",
    "\n",
    "Для неотрицательной, монотонно неубывающей ф-ии $\\phi$\n",
    "$$P(\\phi(\\xi) \\geq \\phi(a)) \\leq \\frac{E\\phi(\\xi)}{\\phi(a)}$$\n",
    "\n",
    "### Неравенство Чебышева\n",
    "Пусть $E\\xi$ и $D\\xi$ - существуют и конечны, $a>0$ тогда\n",
    "$$P(|\\xi - E\\xi| \\geq a) \\leq \\frac{D\\xi}{a^2}$$\n"
   ]
  },
  {
   "cell_type": "markdown",
   "metadata": {},
   "source": [
    "###  Сходимости\n",
    "#### Почти наверное\n",
    "$$\\xi_n \\overset{\\textrm{п.н.}}{\\to} \\xi$$\n",
    "\n",
    "Если\n",
    "\n",
    "$$P(\\{ \\omega \\in \\Omega : \\xi_n(\\omega) \\underset{n \\to \\infty}{\\to} \\xi(\\omega) \\}) = 1$$ \n",
    "\n",
    "или\n",
    "\n",
    "$$P(\\{ \\omega \\in \\Omega : \\xi_n(\\omega) \\underset{n \\to \\infty}{\\not\\to} \\xi(\\omega) \\}) = 0$$ \n",
    "\n",
    "или эквивалентно\n",
    "\n",
    "$$\\forall \\varepsilon > 0 : P(\\{ \\omega \\in \\Omega : \\sup_{k \\geq n} |\\xi_k(\\omega)-\\xi(\\omega)| > \\varepsilon \\}) \\underset{n \\to \\infty}{\\to} 0$$\n",
    "\n",
    "#### По вероятности\n",
    "$$\\xi_n \\overset{\\mathbb{P}}{\\to} \\xi$$ \n",
    "\n",
    "Если\n",
    "\n",
    "$$\\forall \\varepsilon > 0 : P(\\{\\omega \\in \\Omega : |\\xi_n(\\omega)-\\xi(\\omega)| > \\varepsilon \\}) \\underset{n \\to \\infty}{\\to} 0$$\n"
   ]
  },
  {
   "cell_type": "markdown",
   "metadata": {},
   "source": [
    "### Закон больших чисел Чебышева\n",
    "Для **попарно независимых и одинаковораспределенных**\n",
    "$\\{\\xi_i\\}_{i=1}^{\\infty}$ с конечными **вторыми** моментами\n",
    "$$\\frac{\\sum_{i=1}^n\\xi_i}{n} \\overset{\\mathbb{P}}{\\to} \\mathbb{E}\\xi_1$$\t\n",
    "\n",
    "### Закон больших чисел Хинчина\n",
    "Для **в совокупности независимых и одинаковораспределенных**\n",
    "$\\{\\xi_i\\}_{i=1}^{\\infty}$ с конечными **первыми** моментами\n",
    "$$\\frac{\\sum_{i=1}^n\\xi_i}{n} \\overset{\\mathbb{P}}{\\to} \\mathbb{E}\\xi_1$$\t\n",
    "\n",
    "### Закон больших чисел Маркова\n",
    "Для **необязательно независимых и необязательно одинаковораспределенных**\n",
    "$\\{\\xi_i\\}_{i=1}^{\\infty}$, для которых $\\sum_{i=1}^{n}\\mathbb{D}(\\xi_i) = o(n^2)$\n",
    "$$\\frac{\\sum_{i=1}^n\\xi_i}{n} \\overset{\\mathbb{P}}{\\to} \\mathbb{E}\\xi_1$$\n",
    "\n",
    "### Усиленный Закон больших чисел Колмогорова\n",
    "Для тех же условий, что и обычные ЗБЧ\n",
    "$$\\frac{\\sum_{i=1}^n\\xi_i}{n} \\overset{\\textrm{п.н.}}{\\to} \\mathbb{E}\\xi_1$$"
   ]
  },
  {
   "cell_type": "markdown",
   "metadata": {},
   "source": [
    "## Задачи на пару"
   ]
  },
  {
   "cell_type": "markdown",
   "metadata": {},
   "source": [
    "**1.** Монета подбрасывается 10000 раз. Оценим вероятность того, что частота выпадения герба отличается от $\\frac{1}{2}$ на 0,01 или более с помощью неравенства Чебышева."
   ]
  },
  {
   "cell_type": "markdown",
   "metadata": {},
   "source": [
    "**2.** *Достаточное условие ЗБЧ Чебышева.* $\\{\\xi_i\\}_{i=1}^{\\infty}$ - попарно независимые, одинаково распределенные, с конечными вторыми моментами. Докажите, что $\\frac{\\sum_{i=1}^n\\xi_i}{n} \\overset{\\mathbb{P}}{\\to} \\mathbb{E}\\xi_1$. Как получить *достаточное условие ЗБЧ Маркова.*"
   ]
  },
  {
   "cell_type": "markdown",
   "metadata": {},
   "source": [
    "**3.** $\\{\\xi_i\\}_{i=1}^{\\infty}$ - случайные величины, дисперсии которых ограничены одной и той же величиной $C$, а также для всех $i \\ne j$, не являющихся соседними элементами последовательности $cov(x_i, x_j) = 0$. Удовлетворяет ли эта последовательность ЗБЧ?"
   ]
  },
  {
   "cell_type": "markdown",
   "metadata": {},
   "source": [
    "**4.** Пусть $\\xi_n$ принимает значения $-\\alpha n$, $0$, $\\alpha n$ c вероятностями:\n",
    "$\\frac{1}{2 n^2}$, $1 - \\frac{1}{n^2}$, $\\frac{1}{2 n^2}$ соотвественно.\n",
    "Выполнен ли закон больших чисел?"
   ]
  },
  {
   "cell_type": "markdown",
   "metadata": {},
   "source": [
    "**5.** Пусть $\\{\\xi_i\\}_{i=1}^{\\infty}$ с конечными матожиданием $\\mu$ и дисперсией $\\sigma^2$. Положим $\\eta_n = \\frac{\\xi_1 + \\ldots + \\xi_n}{\\xi_1^2 + \\ldots + \\xi_n^2}$. Доказать, что $\\eta_n$ сходится по вероятности и найти этот предел."
   ]
  },
  {
   "cell_type": "markdown",
   "metadata": {},
   "source": [
    "## ДЗ"
   ]
  },
  {
   "cell_type": "markdown",
   "metadata": {},
   "source": [
    "**1.** Вероятность наступления некоторого события $A$ в каждом из $1500$\n",
    "испытаний равна $0,2$. Оценить вероятность того, что отклонение числа\n",
    "наступлений события А от математического ожидания будет не менее $40$."
   ]
  },
  {
   "cell_type": "markdown",
   "metadata": {},
   "source": [
    "**2.** $\\{\\xi_i\\}_{i=1}^{\\infty}$ - попарно независимые случайные величины. Пусть $\\xi_n$ принимает значения $-2 \\sqrt{n}$, $0$, $2 \\sqrt{n}$ c вероятностями:\n",
    "$\\frac{1}{2 n}$, $1 - \\frac{1}{n}$, $\\frac{1}{2 n}$ соотвественно.\n",
    "Выполнен ли закон больших чисел?"
   ]
  },
  {
   "cell_type": "markdown",
   "metadata": {},
   "source": [
    "**3.** Случайная величина $X_n$ принимает значения $e ^ {ln(0,5 N)}$ и $e ^ {ln(1,2 N)}$ с\n",
    "одинаковыми вероятностями. Можно ли к последовательности $X_n$ применить закон\n",
    "больших чисел? "
   ]
  },
  {
   "cell_type": "markdown",
   "metadata": {},
   "source": [
    "**4.** Пусть $\\{\\xi_i\\}_{i=1}^{\\infty}$ — последовательность независимых одинаково\n",
    "распределённых случайных величин, $\\{a_i\\}_{i=1}^{\\infty}$ — ограниченная последовательность неотрицательных чисел. Можно ли утверждать, что если ЗБЧ\n",
    "выполнен для последовательности $\\{\\xi_i\\}_{i=1}^{\\infty}$, то он выполнен и для последовательности $\\{\\eta_i\\}_{i=1}^{\\infty}$, где $\\eta_i = a_n \\xi_n$?"
   ]
  }
 ],
 "metadata": {
  "kernelspec": {
   "display_name": "Python 3",
   "language": "python",
   "name": "python3"
  },
  "language_info": {
   "codemirror_mode": {
    "name": "ipython",
    "version": 3
   },
   "file_extension": ".py",
   "mimetype": "text/x-python",
   "name": "python",
   "nbconvert_exporter": "python",
   "pygments_lexer": "ipython3",
   "version": "3.6.8"
  }
 },
 "nbformat": 4,
 "nbformat_minor": 2
}
